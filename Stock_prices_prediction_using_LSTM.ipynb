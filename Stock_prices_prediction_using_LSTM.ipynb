{
  "nbformat": 4,
  "nbformat_minor": 0,
  "metadata": {
    "colab": {
      "name": "Stock prices prediction using LSTM.ipynb",
      "provenance": [],
      "collapsed_sections": [],
      "authorship_tag": "ABX9TyMpbxDAxaEDuvLr3ouU3U5N"
    },
    "kernelspec": {
      "name": "python3",
      "display_name": "Python 3"
    },
    "language_info": {
      "name": "python"
    }
  },
  "cells": [
    {
      "cell_type": "code",
      "metadata": {
        "id": "UeNTZj8LPRjf"
      },
      "source": [
        "import pandas as pd\n",
        "import numpy as np\n",
        "import matplotlib.pyplot as plt\n",
        "from sklearn.preprocessing import MinMaxScaler\n",
        "from keras.models import Sequential, load_model\n",
        "from keras.layers import LSTM, Dense, Dropout"
      ],
      "execution_count": 97,
      "outputs": []
    },
    {
      "cell_type": "code",
      "metadata": {
        "colab": {
          "resources": {
            "http://localhost:8080/nbextensions/google.colab/files.js": {
              "data": "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",
              "ok": true,
              "headers": [
                [
                  "content-type",
                  "application/javascript"
                ]
              ],
              "status": 200,
              "status_text": ""
            }
          },
          "base_uri": "https://localhost:8080/",
          "height": 73
        },
        "id": "I4IHdIrSPjHW",
        "outputId": "31d86c68-76f9-4629-c7a9-e6ace1327488"
      },
      "source": [
        "from google.colab import files\n",
        "dataset = files.upload()"
      ],
      "execution_count": 98,
      "outputs": [
        {
          "output_type": "display_data",
          "data": {
            "text/html": [
              "\n",
              "     <input type=\"file\" id=\"files-5efd9bf2-4120-4729-991e-12c22223177d\" name=\"files[]\" multiple disabled\n",
              "        style=\"border:none\" />\n",
              "     <output id=\"result-5efd9bf2-4120-4729-991e-12c22223177d\">\n",
              "      Upload widget is only available when the cell has been executed in the\n",
              "      current browser session. Please rerun this cell to enable.\n",
              "      </output>\n",
              "      <script src=\"/nbextensions/google.colab/files.js\"></script> "
            ],
            "text/plain": [
              "<IPython.core.display.HTML object>"
            ]
          },
          "metadata": {}
        },
        {
          "output_type": "stream",
          "name": "stdout",
          "text": [
            "Saving NKE (2).csv to NKE (2) (1).csv\n"
          ]
        }
      ]
    },
    {
      "cell_type": "code",
      "metadata": {
        "id": "-i1XoG1mQd0C"
      },
      "source": [
        "df=pd.read_csv('NKE (2).csv')"
      ],
      "execution_count": 99,
      "outputs": []
    },
    {
      "cell_type": "code",
      "metadata": {
        "colab": {
          "base_uri": "https://localhost:8080/"
        },
        "id": "aHcFXs3pQlEv",
        "outputId": "3965ce1d-fa96-462e-a082-dca0f3300b22"
      },
      "source": [
        "df.shape"
      ],
      "execution_count": 100,
      "outputs": [
        {
          "output_type": "execute_result",
          "data": {
            "text/plain": [
              "(1259, 7)"
            ]
          },
          "metadata": {},
          "execution_count": 100
        }
      ]
    },
    {
      "cell_type": "code",
      "metadata": {
        "id": "Imm4fsWsQzlc"
      },
      "source": [
        "df=df['Close'].values"
      ],
      "execution_count": 101,
      "outputs": []
    },
    {
      "cell_type": "code",
      "metadata": {
        "colab": {
          "base_uri": "https://localhost:8080/"
        },
        "id": "t64WGgFHRIHU",
        "outputId": "e98a4320-4772-473e-d385-9405b6aff830"
      },
      "source": [
        "df.shape"
      ],
      "execution_count": 102,
      "outputs": [
        {
          "output_type": "execute_result",
          "data": {
            "text/plain": [
              "(1259,)"
            ]
          },
          "metadata": {},
          "execution_count": 102
        }
      ]
    },
    {
      "cell_type": "code",
      "metadata": {
        "id": "mic3PBoERM0p"
      },
      "source": [
        "df=df.reshape(-1,1) # This makes an array of multiple 1 element arrays for each of the prices"
      ],
      "execution_count": 103,
      "outputs": []
    },
    {
      "cell_type": "code",
      "metadata": {
        "id": "k8g2ybr0RZgd",
        "colab": {
          "base_uri": "https://localhost:8080/"
        },
        "outputId": "c9c03c83-a4f2-44a5-e70c-1c5e918cba55"
      },
      "source": [
        "train=np.array(df[:int(df.shape[0]*0.8)])\n",
        "test=np.array(df[int(df.shape[0]*0.8):df.shape[0]]) #The test data is the opening prices for \n",
        "print(train.shape)\n",
        "print(test.shape)"
      ],
      "execution_count": 104,
      "outputs": [
        {
          "output_type": "stream",
          "name": "stdout",
          "text": [
            "(1007, 1)\n",
            "(252, 1)\n"
          ]
        }
      ]
    },
    {
      "cell_type": "code",
      "metadata": {
        "id": "HcS_fQ79R_ba"
      },
      "source": [
        "scale=MinMaxScaler(feature_range=(0,1))\n",
        "train=scale.fit_transform(train)\n",
        "test=scale.fit_transform(test)"
      ],
      "execution_count": 105,
      "outputs": []
    },
    {
      "cell_type": "code",
      "metadata": {
        "id": "Aq6qMxSWSXav"
      },
      "source": [
        "past=65\n",
        "def create_dataset(df): #This function creates numpy array of multiple arrays of length 'past' as in our network we will use data from 'past' many days\n",
        "    x = []\n",
        "    y = []\n",
        "    for i in range(past, df.shape[0]):\n",
        "        x.append(df[i-past:i, 0])\n",
        "        y.append(df[i, 0])\n",
        "    x = np.array(x)\n",
        "    y = np.array(y)\n",
        "    return x,y"
      ],
      "execution_count": 106,
      "outputs": []
    },
    {
      "cell_type": "code",
      "metadata": {
        "id": "PB88RQ5NSjza"
      },
      "source": [
        "x_train, y_train = create_dataset(train)\n",
        "x_test, y_test = create_dataset(test)\n"
      ],
      "execution_count": 107,
      "outputs": []
    },
    {
      "cell_type": "code",
      "metadata": {
        "colab": {
          "base_uri": "https://localhost:8080/"
        },
        "id": "i-foS0N56R6x",
        "outputId": "2ba53b7a-6a55-48f7-b072-1ac42300d905"
      },
      "source": [
        "print(x_train)\n",
        "print(x_train.shape[1])"
      ],
      "execution_count": 108,
      "outputs": [
        {
          "output_type": "stream",
          "name": "stdout",
          "text": [
            "[[0.02697665 0.02734959 0.03505719 ... 0.04674294 0.0433864  0.03816509]\n",
            " [0.02734959 0.03505719 0.02996022 ... 0.0433864  0.03816509 0.03455996]\n",
            " [0.03505719 0.02996022 0.02486325 ... 0.03816509 0.03455996 0.04102435]\n",
            " ...\n",
            " [0.62568372 0.58988068 0.6118846  ... 0.95748385 0.95748385 0.97327208]\n",
            " [0.58988068 0.6118846  0.58888612 ... 0.95748385 0.97327208 0.97003983]\n",
            " [0.6118846  0.58888612 0.60131775 ... 0.97327208 0.97003983 1.        ]]\n",
            "65\n"
          ]
        }
      ]
    },
    {
      "cell_type": "code",
      "metadata": {
        "id": "1gce66AVSqQr"
      },
      "source": [
        "x_train = np.reshape(x_train, (x_train.shape[0], x_train.shape[1], 1))\n",
        "x_test = np.reshape(x_test, (x_test.shape[0], x_test.shape[1], 1))"
      ],
      "execution_count": 109,
      "outputs": []
    },
    {
      "cell_type": "code",
      "metadata": {
        "id": "_UVFCrsSSxLW"
      },
      "source": [
        "model = Sequential()\n",
        "model.add(LSTM(units=120, return_sequences=True, input_shape=(x_train.shape[1], 1)))\n",
        "model.add(Dropout(0.2))\n",
        "model.add(LSTM(units=120,return_sequences=True))\n",
        "model.add(Dropout(0.2))\n",
        "model.add(LSTM(units=120,return_sequences=True))\n",
        "model.add(Dropout(0.2))\n",
        "model.add(LSTM(units=120))\n",
        "model.add(Dropout(0.2)) #dropout is used to prevent overfitting\n",
        "model.add(Dense(units=1))"
      ],
      "execution_count": 110,
      "outputs": []
    },
    {
      "cell_type": "code",
      "metadata": {
        "id": "dXkMGz_XS6jw"
      },
      "source": [
        "model.compile(loss='mean_squared_error', optimizer='adam')"
      ],
      "execution_count": 111,
      "outputs": []
    },
    {
      "cell_type": "code",
      "metadata": {
        "colab": {
          "base_uri": "https://localhost:8080/"
        },
        "id": "S3lpvX-WS88N",
        "outputId": "4729240f-7ded-42b7-86b9-55821c6d0e98"
      },
      "source": [
        "model.fit(x_train, y_train, epochs=60, batch_size=50)\n",
        "model.save('stock_prediction.h5')"
      ],
      "execution_count": 112,
      "outputs": [
        {
          "output_type": "stream",
          "name": "stdout",
          "text": [
            "Epoch 1/60\n",
            "19/19 [==============================] - 14s 393ms/step - loss: 0.0426\n",
            "Epoch 2/60\n",
            "19/19 [==============================] - 7s 387ms/step - loss: 0.0088\n",
            "Epoch 3/60\n",
            "19/19 [==============================] - 7s 387ms/step - loss: 0.0051\n",
            "Epoch 4/60\n",
            "19/19 [==============================] - 7s 387ms/step - loss: 0.0043\n",
            "Epoch 5/60\n",
            "19/19 [==============================] - 7s 391ms/step - loss: 0.0034\n",
            "Epoch 6/60\n",
            "19/19 [==============================] - 7s 389ms/step - loss: 0.0034\n",
            "Epoch 7/60\n",
            "19/19 [==============================] - 7s 388ms/step - loss: 0.0030\n",
            "Epoch 8/60\n",
            "19/19 [==============================] - 7s 390ms/step - loss: 0.0031\n",
            "Epoch 9/60\n",
            "19/19 [==============================] - 7s 390ms/step - loss: 0.0033\n",
            "Epoch 10/60\n",
            "19/19 [==============================] - 7s 389ms/step - loss: 0.0034\n",
            "Epoch 11/60\n",
            "19/19 [==============================] - 7s 390ms/step - loss: 0.0030\n",
            "Epoch 12/60\n",
            "19/19 [==============================] - 7s 388ms/step - loss: 0.0027\n",
            "Epoch 13/60\n",
            "19/19 [==============================] - 7s 390ms/step - loss: 0.0025\n",
            "Epoch 14/60\n",
            "19/19 [==============================] - 7s 389ms/step - loss: 0.0025\n",
            "Epoch 15/60\n",
            "19/19 [==============================] - 7s 390ms/step - loss: 0.0025\n",
            "Epoch 16/60\n",
            "19/19 [==============================] - 7s 389ms/step - loss: 0.0029\n",
            "Epoch 17/60\n",
            "19/19 [==============================] - 7s 393ms/step - loss: 0.0028\n",
            "Epoch 18/60\n",
            "19/19 [==============================] - 7s 391ms/step - loss: 0.0026\n",
            "Epoch 19/60\n",
            "19/19 [==============================] - 7s 393ms/step - loss: 0.0022\n",
            "Epoch 20/60\n",
            "19/19 [==============================] - 7s 392ms/step - loss: 0.0024\n",
            "Epoch 21/60\n",
            "19/19 [==============================] - 7s 388ms/step - loss: 0.0024\n",
            "Epoch 22/60\n",
            "19/19 [==============================] - 7s 391ms/step - loss: 0.0023\n",
            "Epoch 23/60\n",
            "19/19 [==============================] - 7s 392ms/step - loss: 0.0024\n",
            "Epoch 24/60\n",
            "19/19 [==============================] - 7s 390ms/step - loss: 0.0022\n",
            "Epoch 25/60\n",
            "19/19 [==============================] - 7s 392ms/step - loss: 0.0022\n",
            "Epoch 26/60\n",
            "19/19 [==============================] - 7s 390ms/step - loss: 0.0025\n",
            "Epoch 27/60\n",
            "19/19 [==============================] - 7s 391ms/step - loss: 0.0024\n",
            "Epoch 28/60\n",
            "19/19 [==============================] - 7s 387ms/step - loss: 0.0021\n",
            "Epoch 29/60\n",
            "19/19 [==============================] - 7s 390ms/step - loss: 0.0018\n",
            "Epoch 30/60\n",
            "19/19 [==============================] - 7s 390ms/step - loss: 0.0020\n",
            "Epoch 31/60\n",
            "19/19 [==============================] - 7s 387ms/step - loss: 0.0021\n",
            "Epoch 32/60\n",
            "19/19 [==============================] - 7s 393ms/step - loss: 0.0022\n",
            "Epoch 33/60\n",
            "19/19 [==============================] - 7s 389ms/step - loss: 0.0018\n",
            "Epoch 34/60\n",
            "19/19 [==============================] - 7s 388ms/step - loss: 0.0023\n",
            "Epoch 35/60\n",
            "19/19 [==============================] - 7s 388ms/step - loss: 0.0028\n",
            "Epoch 36/60\n",
            "19/19 [==============================] - 7s 391ms/step - loss: 0.0020\n",
            "Epoch 37/60\n",
            "19/19 [==============================] - 7s 393ms/step - loss: 0.0021\n",
            "Epoch 38/60\n",
            "19/19 [==============================] - 7s 392ms/step - loss: 0.0023\n",
            "Epoch 39/60\n",
            "19/19 [==============================] - 7s 390ms/step - loss: 0.0019\n",
            "Epoch 40/60\n",
            "19/19 [==============================] - 7s 388ms/step - loss: 0.0022\n",
            "Epoch 41/60\n",
            "19/19 [==============================] - 7s 391ms/step - loss: 0.0019\n",
            "Epoch 42/60\n",
            "19/19 [==============================] - 7s 389ms/step - loss: 0.0019\n",
            "Epoch 43/60\n",
            "19/19 [==============================] - 7s 392ms/step - loss: 0.0019\n",
            "Epoch 44/60\n",
            "19/19 [==============================] - 7s 387ms/step - loss: 0.0022\n",
            "Epoch 45/60\n",
            "19/19 [==============================] - 7s 389ms/step - loss: 0.0020\n",
            "Epoch 46/60\n",
            "19/19 [==============================] - 7s 390ms/step - loss: 0.0017\n",
            "Epoch 47/60\n",
            "19/19 [==============================] - 7s 394ms/step - loss: 0.0021\n",
            "Epoch 48/60\n",
            "19/19 [==============================] - 7s 387ms/step - loss: 0.0019\n",
            "Epoch 49/60\n",
            "19/19 [==============================] - 7s 389ms/step - loss: 0.0018\n",
            "Epoch 50/60\n",
            "19/19 [==============================] - 7s 389ms/step - loss: 0.0016\n",
            "Epoch 51/60\n",
            "19/19 [==============================] - 7s 392ms/step - loss: 0.0017\n",
            "Epoch 52/60\n",
            "19/19 [==============================] - 7s 389ms/step - loss: 0.0017\n",
            "Epoch 53/60\n",
            "19/19 [==============================] - 7s 388ms/step - loss: 0.0017\n",
            "Epoch 54/60\n",
            "19/19 [==============================] - 7s 392ms/step - loss: 0.0022\n",
            "Epoch 55/60\n",
            "19/19 [==============================] - 7s 392ms/step - loss: 0.0019\n",
            "Epoch 56/60\n",
            "19/19 [==============================] - 7s 391ms/step - loss: 0.0017\n",
            "Epoch 57/60\n",
            "19/19 [==============================] - 7s 393ms/step - loss: 0.0017\n",
            "Epoch 58/60\n",
            "19/19 [==============================] - 8s 395ms/step - loss: 0.0016\n",
            "Epoch 59/60\n",
            "19/19 [==============================] - 7s 393ms/step - loss: 0.0016\n",
            "Epoch 60/60\n",
            "19/19 [==============================] - 7s 391ms/step - loss: 0.0015\n"
          ]
        }
      ]
    },
    {
      "cell_type": "code",
      "metadata": {
        "id": "QuBLvs3oTzRZ"
      },
      "source": [
        "model = load_model('stock_prediction.h5')"
      ],
      "execution_count": 113,
      "outputs": []
    },
    {
      "cell_type": "code",
      "metadata": {
        "colab": {
          "base_uri": "https://localhost:8080/",
          "height": 500
        },
        "id": "6G0IaZdaT4-N",
        "outputId": "4db33d76-044b-489b-e65e-227ac8eabcff"
      },
      "source": [
        "\n",
        "\n",
        "predictions = model.predict(x_test)\n",
        "predictions = scale.inverse_transform(predictions)\n",
        "y_test_scaled = scale.inverse_transform(y_test.reshape(-1, 1))\n",
        "\n",
        "fig, ax = plt.subplots(figsize=(16,8))\n",
        "ax.set_facecolor('#000030')\n",
        "ax.plot(y_test_scaled, color='red', label='Original price')\n",
        "plt.plot(predictions, color='blue', label='Predicted price')\n",
        "plt.legend()\n"
      ],
      "execution_count": 114,
      "outputs": [
        {
          "output_type": "execute_result",
          "data": {
            "text/plain": [
              "<matplotlib.legend.Legend at 0x7f4116832c90>"
            ]
          },
          "metadata": {},
          "execution_count": 114
        },
        {
          "output_type": "display_data",
          "data": {
            "image/png": "[encoded data removed]",
            "text/plain": [
              "<Figure size 1152x576 with 1 Axes>"
            ]
          },
          "metadata": {
            "needs_background": "light"
          }
        }
      ]
    },
    {
      "cell_type": "code",
      "metadata": {
        "id": "rR8DJUu3GtmM"
      },
      "source": [
        "df=pd.read_csv('NKE (2).csv')"
      ],
      "execution_count": 115,
      "outputs": []
    },
    {
      "cell_type": "code",
      "metadata": {
        "id": "EibVj0SOGxrU"
      },
      "source": [
        "new_df=df['Close'].values"
      ],
      "execution_count": 116,
      "outputs": []
    },
    {
      "cell_type": "code",
      "metadata": {
        "id": "bCMGb2oyG2xX"
      },
      "source": [
        "#Get the last 'past' days to predict something in the future\n",
        "last_days=new_df[-past:]\n",
        "last_days=np.reshape(last_days, (-1,1))"
      ],
      "execution_count": 117,
      "outputs": []
    },
    {
      "cell_type": "code",
      "metadata": {
        "id": "bfu0ylzbHAH2"
      },
      "source": [
        "scale_last_days=scale.transform(last_days)"
      ],
      "execution_count": 118,
      "outputs": []
    },
    {
      "cell_type": "code",
      "metadata": {
        "colab": {
          "base_uri": "https://localhost:8080/"
        },
        "id": "ce1R6TGGYP_e",
        "outputId": "94bf23f5-782f-4ed7-f2a2-3c318cba0ff8"
      },
      "source": [
        "#Projecting days in future using data that the network generates itself.\n",
        "#In this case I have projected 20 days into the future\n",
        "days=20\n",
        "results=[]\n",
        "Days=[]\n",
        "for i in range(days):\n",
        "  Days.append(i+1)\n",
        "  Test=[]\n",
        "  Test.append(scale_last_days[-past:,0])\n",
        "  Test=np.array(Test)\n",
        "  Test=np.reshape(Test, (Test.shape[0], Test.shape[1], 1))\n",
        "  pred=model.predict(Test)\n",
        "  scale_last_days=np.append(scale_last_days, pred)\n",
        "  scale_last_days=np.reshape(scale_last_days, (-1,1))\n",
        "  pred=scale.inverse_transform(pred)\n",
        "  print(pred)\n",
        "  \n",
        "  pred=pred[0][0]\n",
        "  print(pred)\n",
        "  results.append(pred)\n",
        "\n",
        "\n",
        "\n",
        "\n"
      ],
      "execution_count": 119,
      "outputs": [
        {
          "output_type": "stream",
          "name": "stdout",
          "text": [
            "[[150.18962]]\n",
            "150.18962\n",
            "[[151.51907]]\n",
            "151.51907\n",
            "[[152.61464]]\n",
            "152.61464\n",
            "[[153.47418]]\n",
            "153.47418\n",
            "[[154.17921]]\n",
            "154.17921\n",
            "[[154.80998]]\n",
            "154.80998\n",
            "[[155.4151]]\n",
            "155.4151\n",
            "[[156.0138]]\n",
            "156.0138\n",
            "[[156.60858]]\n",
            "156.60858\n",
            "[[157.19635]]\n",
            "157.19635\n",
            "[[157.77426]]\n",
            "157.77426\n",
            "[[158.34145]]\n",
            "158.34145\n",
            "[[158.8989]]\n",
            "158.8989\n",
            "[[159.44849]]\n",
            "159.44849\n",
            "[[159.99225]]\n",
            "159.99225\n",
            "[[160.53223]]\n",
            "160.53223\n",
            "[[161.07025]]\n",
            "161.07025\n",
            "[[161.60808]]\n",
            "161.60808\n",
            "[[162.1472]]\n",
            "162.1472\n",
            "[[162.68921]]\n",
            "162.68921\n"
          ]
        }
      ]
    },
    {
      "cell_type": "code",
      "metadata": {
        "colab": {
          "base_uri": "https://localhost:8080/",
          "height": 500
        },
        "id": "V1YN4hndbHPA",
        "outputId": "eab0951f-6c32-469a-c189-00807accabaf"
      },
      "source": [
        "fig, ax = plt.subplots(figsize=(16,8))\n",
        "ax.set_facecolor('#000041')\n",
        "ax.plot(Days, results, color='cyan', label='predicted price')"
      ],
      "execution_count": 120,
      "outputs": [
        {
          "output_type": "execute_result",
          "data": {
            "text/plain": [
              "[<matplotlib.lines.Line2D at 0x7f411845d510>]"
            ]
          },
          "metadata": {},
          "execution_count": 120
        },
        {
          "output_type": "display_data",
          "data": {
            "image/png": "[encoded data removed]",
            "text/plain": [
              "<Figure size 1152x576 with 1 Axes>"
            ]
          },
          "metadata": {
            "needs_background": "light"
          }
        }
      ]
    },
    {
      "cell_type": "code",
      "metadata": {
        "colab": {
          "base_uri": "https://localhost:8080/"
        },
        "id": "LHcEw2UcaeDw",
        "outputId": "27da0cea-35bb-43b8-9629-1b9391a53459"
      },
      "source": [
        "#This code outputs the first predicted day in the future.\n",
        "results[0]"
      ],
      "execution_count": 121,
      "outputs": [
        {
          "output_type": "execute_result",
          "data": {
            "text/plain": [
              "150.18962"
            ]
          },
          "metadata": {},
          "execution_count": 121
        }
      ]
    }
  ]
}