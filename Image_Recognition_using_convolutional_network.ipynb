{
  "nbformat": 4,
  "nbformat_minor": 0,
  "metadata": {
    "colab": {
      "name": "Image Recognition using convolutional network.ipynb",
      "provenance": [],
      "authorship_tag": "ABX9TyMo1VT1zovg0u0AQaBAd3uZ"
    },
    "kernelspec": {
      "name": "python3",
      "display_name": "Python 3"
    },
    "language_info": {
      "name": "python"
    }
  },
  "cells": [
    {
      "cell_type": "code",
      "metadata": {
        "id": "Ujb7qq3V8Xbk"
      },
      "source": [
        "import tensorflow as tf\n",
        "from tensorflow import keras \n",
        "from keras.models import Sequential\n",
        "from keras.layers import Dense, Flatten, Conv2D, MaxPooling2D, Dropout\n",
        "from tensorflow.keras import layers\n",
        "from keras.utils import np_utils\n",
        "import numpy as np\n",
        "import matplotlib.pyplot as plt\n"
      ],
      "execution_count": 1,
      "outputs": []
    },
    {
      "cell_type": "code",
      "metadata": {
        "colab": {
          "base_uri": "https://localhost:8080/"
        },
        "id": "fkvdDX1o9AGr",
        "outputId": "0f382700-3919-475d-fac5-aea765673c8c"
      },
      "source": [
        "from keras.datasets import cifar10\n",
        "(x_train, y_train), (x_test, y_test)=cifar10.load_data()"
      ],
      "execution_count": 2,
      "outputs": [
        {
          "output_type": "stream",
          "name": "stdout",
          "text": [
            "Downloading data from https://www.cs.toronto.edu/~kriz/cifar-10-python.tar.gz\n",
            "170500096/170498071 [==============================] - 6s 0us/step\n",
            "170508288/170498071 [==============================] - 6s 0us/step\n"
          ]
        }
      ]
    },
    {
      "cell_type": "code",
      "metadata": {
        "colab": {
          "base_uri": "https://localhost:8080/"
        },
        "id": "_qlTY3AQ9vvV",
        "outputId": "c56d50b5-90ea-4130-b2ce-cee2cb8bbba1"
      },
      "source": [
        "x_train.shape# 50000 data points each 32x32 pixels and density 3 for RGB"
      ],
      "execution_count": 3,
      "outputs": [
        {
          "output_type": "execute_result",
          "data": {
            "text/plain": [
              "(50000, 32, 32, 3)"
            ]
          },
          "metadata": {},
          "execution_count": 3
        }
      ]
    },
    {
      "cell_type": "code",
      "metadata": {
        "colab": {
          "base_uri": "https://localhost:8080/"
        },
        "id": "BC2SDee794Th",
        "outputId": "134337a3-6966-4a59-a10f-92da044eb544"
      },
      "source": [
        "y_train.shape"
      ],
      "execution_count": 4,
      "outputs": [
        {
          "output_type": "execute_result",
          "data": {
            "text/plain": [
              "(50000, 1)"
            ]
          },
          "metadata": {},
          "execution_count": 4
        }
      ]
    },
    {
      "cell_type": "code",
      "metadata": {
        "colab": {
          "base_uri": "https://localhost:8080/",
          "height": 266
        },
        "id": "p_rdJoV--Bg6",
        "outputId": "18430825-7024-4d28-ef2a-3b9860b4f7b4"
      },
      "source": [
        "image=plt.imshow(x_train[0]) #shows the training data as an image"
      ],
      "execution_count": 5,
      "outputs": [
        {
          "output_type": "display_data",
          "data": {
            "image/png": "[encoded data removed]",
            "text/plain": [
              "<Figure size 432x288 with 1 Axes>"
            ]
          },
          "metadata": {
            "needs_background": "light"
          }
        }
      ]
    },
    {
      "cell_type": "code",
      "metadata": {
        "colab": {
          "base_uri": "https://localhost:8080/"
        },
        "id": "yapJvrLc-MFR",
        "outputId": "69a7ce1c-fc60-4e71-e54e-d25992377f86"
      },
      "source": [
        "print(x_train[0])"
      ],
      "execution_count": 6,
      "outputs": [
        {
          "output_type": "stream",
          "name": "stdout",
          "text": [
            "[[[ 59  62  63]\n",
            "  [ 43  46  45]\n",
            "  [ 50  48  43]\n",
            "  ...\n",
            "  [158 132 108]\n",
            "  [152 125 102]\n",
            "  [148 124 103]]\n",
            "\n",
            " [[ 16  20  20]\n",
            "  [  0   0   0]\n",
            "  [ 18   8   0]\n",
            "  ...\n",
            "  [123  88  55]\n",
            "  [119  83  50]\n",
            "  [122  87  57]]\n",
            "\n",
            " [[ 25  24  21]\n",
            "  [ 16   7   0]\n",
            "  [ 49  27   8]\n",
            "  ...\n",
            "  [118  84  50]\n",
            "  [120  84  50]\n",
            "  [109  73  42]]\n",
            "\n",
            " ...\n",
            "\n",
            " [[208 170  96]\n",
            "  [201 153  34]\n",
            "  [198 161  26]\n",
            "  ...\n",
            "  [160 133  70]\n",
            "  [ 56  31   7]\n",
            "  [ 53  34  20]]\n",
            "\n",
            " [[180 139  96]\n",
            "  [173 123  42]\n",
            "  [186 144  30]\n",
            "  ...\n",
            "  [184 148  94]\n",
            "  [ 97  62  34]\n",
            "  [ 83  53  34]]\n",
            "\n",
            " [[177 144 116]\n",
            "  [168 129  94]\n",
            "  [179 142  87]\n",
            "  ...\n",
            "  [216 184 140]\n",
            "  [151 118  84]\n",
            "  [123  92  72]]]\n"
          ]
        }
      ]
    },
    {
      "cell_type": "code",
      "metadata": {
        "colab": {
          "base_uri": "https://localhost:8080/"
        },
        "id": "VnQ6TXCj-XGB",
        "outputId": "1b2ff2c1-f025-408a-b9b0-6f1828ec9a50"
      },
      "source": [
        "print(y_train)"
      ],
      "execution_count": 7,
      "outputs": [
        {
          "output_type": "stream",
          "name": "stdout",
          "text": [
            "[[6]\n",
            " [9]\n",
            " [9]\n",
            " ...\n",
            " [9]\n",
            " [1]\n",
            " [1]]\n"
          ]
        }
      ]
    },
    {
      "cell_type": "code",
      "metadata": {
        "id": "JsHy8U6t-rcC"
      },
      "source": [
        "objects=['airplane', 'automobile', 'bird', 'cat', 'deer', 'dog', 'frog', 'horse', 'ship', 'truck']\n",
        "# one hot ecoding the data for y so it turns into a vector with a 1 in the appropriate place and zeros everywhere else.\n",
        "y_train_one_hot= np_utils.to_categorical(y_train)\n",
        "y_test_one_hot= np_utils.to_categorical(y_test)"
      ],
      "execution_count": 8,
      "outputs": []
    },
    {
      "cell_type": "code",
      "metadata": {
        "colab": {
          "base_uri": "https://localhost:8080/"
        },
        "id": "ddWD4Uaz_i_i",
        "outputId": "4674ee39-28d0-4c57-9d3e-ec7c551e58c2"
      },
      "source": [
        "print(y_train_one_hot[0]) #Should have a 1 in area column representing frog"
      ],
      "execution_count": 9,
      "outputs": [
        {
          "output_type": "stream",
          "name": "stdout",
          "text": [
            "[0. 0. 0. 0. 0. 0. 1. 0. 0. 0.]\n"
          ]
        }
      ]
    },
    {
      "cell_type": "code",
      "metadata": {
        "id": "tYkCH7e1_leT"
      },
      "source": [
        "x_train=x_train/255 #Normalise the data to be between 0 and 1\n",
        "x_test =x_test/255\n"
      ],
      "execution_count": 10,
      "outputs": []
    },
    {
      "cell_type": "code",
      "metadata": {
        "id": "FMicVSni_yU7"
      },
      "source": [
        "model=Sequential()\n",
        "\n",
        "#making a convolutional network\n",
        "model.add(Conv2D(32, (4,4), activation='relu', input_shape=(32, 32, 3))) # Makes 32 feature maps, the local receptive field is 4x4 pixels \n",
        "model.add(MaxPooling2D(pool_size=(2,2))) # Makes a pooling layer for every 2x2 neurons in feature maps into 1 neuron in pooling layer. Each feature map goes into different pooling sub layer\n",
        "model.add(Conv2D( 32, (4,4), activation='relu'))\n",
        "model.add(MaxPooling2D(pool_size=(2,2)))\n",
        "model.add(Flatten())# makes a linear 1d array for inputting into final set of fully connected layers\n",
        "model.add(Dense(600, activation='relu')) #Dense layer is a fully connected layer\n",
        "model.add(Dropout(0.5)) #Dropout to prevent overfitting to dataset\n",
        "model.add(Dense(300, activation='relu'))\n",
        "model.add(Dropout(0.5))\n",
        "model.add(Dense(10, activation='softmax'))# 10 output neurons, 1 for each of the categories\n"
      ],
      "execution_count": 14,
      "outputs": []
    },
    {
      "cell_type": "code",
      "metadata": {
        "id": "0E5k_EIJCOFB"
      },
      "source": [
        "model.compile(loss='categorical_crossentropy', optimizer='adam', metrics=['accuracy'])"
      ],
      "execution_count": 15,
      "outputs": []
    },
    {
      "cell_type": "code",
      "metadata": {
        "colab": {
          "base_uri": "https://localhost:8080/"
        },
        "id": "LpOnD21rCvGj",
        "outputId": "322aeaac-d0ad-4d10-8376-bd7e935d5cd5"
      },
      "source": [
        "history=model.fit(x_train, y_train_one_hot, batch_size=256, validation_data=(x_test, y_test_one_hot), epochs=20)"
      ],
      "execution_count": 16,
      "outputs": [
        {
          "output_type": "stream",
          "name": "stdout",
          "text": [
            "Epoch 1/20\n",
            "196/196 [==============================] - 45s 226ms/step - loss: 1.7482 - accuracy: 0.3529 - val_loss: 1.3954 - val_accuracy: 0.4940\n",
            "Epoch 2/20\n",
            "196/196 [==============================] - 44s 222ms/step - loss: 1.3730 - accuracy: 0.5017 - val_loss: 1.2436 - val_accuracy: 0.5451\n",
            "Epoch 3/20\n",
            "196/196 [==============================] - 43s 219ms/step - loss: 1.2179 - accuracy: 0.5662 - val_loss: 1.1220 - val_accuracy: 0.6013\n",
            "Epoch 4/20\n",
            "196/196 [==============================] - 43s 219ms/step - loss: 1.1240 - accuracy: 0.6010 - val_loss: 1.0394 - val_accuracy: 0.6343\n",
            "Epoch 5/20\n",
            "196/196 [==============================] - 43s 219ms/step - loss: 1.0566 - accuracy: 0.6298 - val_loss: 1.1317 - val_accuracy: 0.6102\n",
            "Epoch 6/20\n",
            "196/196 [==============================] - 43s 220ms/step - loss: 0.9975 - accuracy: 0.6529 - val_loss: 0.9600 - val_accuracy: 0.6638\n",
            "Epoch 7/20\n",
            "196/196 [==============================] - 43s 220ms/step - loss: 0.9396 - accuracy: 0.6714 - val_loss: 0.9308 - val_accuracy: 0.6723\n",
            "Epoch 8/20\n",
            "196/196 [==============================] - 43s 221ms/step - loss: 0.8883 - accuracy: 0.6914 - val_loss: 0.9186 - val_accuracy: 0.6781\n",
            "Epoch 9/20\n",
            "196/196 [==============================] - 43s 220ms/step - loss: 0.8491 - accuracy: 0.7049 - val_loss: 0.9179 - val_accuracy: 0.6820\n",
            "Epoch 10/20\n",
            "196/196 [==============================] - 43s 221ms/step - loss: 0.8082 - accuracy: 0.7159 - val_loss: 0.9341 - val_accuracy: 0.6777\n",
            "Epoch 11/20\n",
            "196/196 [==============================] - 43s 220ms/step - loss: 0.7758 - accuracy: 0.7295 - val_loss: 0.8731 - val_accuracy: 0.7001\n",
            "Epoch 12/20\n",
            "196/196 [==============================] - 43s 220ms/step - loss: 0.7388 - accuracy: 0.7444 - val_loss: 0.8608 - val_accuracy: 0.7040\n",
            "Epoch 13/20\n",
            "196/196 [==============================] - 43s 219ms/step - loss: 0.7110 - accuracy: 0.7507 - val_loss: 0.8639 - val_accuracy: 0.7046\n",
            "Epoch 14/20\n",
            "196/196 [==============================] - 43s 220ms/step - loss: 0.6839 - accuracy: 0.7604 - val_loss: 0.8679 - val_accuracy: 0.7022\n",
            "Epoch 15/20\n",
            "196/196 [==============================] - 43s 221ms/step - loss: 0.6518 - accuracy: 0.7725 - val_loss: 0.8969 - val_accuracy: 0.7031\n",
            "Epoch 16/20\n",
            "196/196 [==============================] - 43s 219ms/step - loss: 0.6263 - accuracy: 0.7799 - val_loss: 0.8713 - val_accuracy: 0.7126\n",
            "Epoch 17/20\n",
            "196/196 [==============================] - 43s 220ms/step - loss: 0.6010 - accuracy: 0.7884 - val_loss: 0.8744 - val_accuracy: 0.7128\n",
            "Epoch 18/20\n",
            "196/196 [==============================] - 43s 220ms/step - loss: 0.5698 - accuracy: 0.7979 - val_loss: 0.8416 - val_accuracy: 0.7214\n",
            "Epoch 19/20\n",
            "196/196 [==============================] - 43s 219ms/step - loss: 0.5512 - accuracy: 0.8075 - val_loss: 0.8464 - val_accuracy: 0.7204\n",
            "Epoch 20/20\n",
            "196/196 [==============================] - 43s 220ms/step - loss: 0.5293 - accuracy: 0.8152 - val_loss: 0.8492 - val_accuracy: 0.7243\n"
          ]
        }
      ]
    },
    {
      "cell_type": "code",
      "metadata": {
        "colab": {
          "base_uri": "https://localhost:8080/",
          "height": 562
        },
        "id": "-QJH91vyDK4l",
        "outputId": "9da48da5-24c4-40f5-8057-12ca0b8f1885"
      },
      "source": [
        "fig=plt.figure()\n",
        "plt.plot(history.history['accuracy'])\n",
        "plt.plot(history.history['val_accuracy']) #The test data reaches an accuracy of 72% for model above. Running for more epochs this will get a bit higher.\n",
        "plt.title('Model accuracy')\n",
        "plt.xlabel='Epochs'\n",
        "plt.ylabel='Accuracy'\n",
        "plt.legend(('train', 'test'))\n",
        "\n",
        "#This second figure plots the cost of the model against number of epochs\n",
        "fig2=plt.figure()\n",
        "plt.plot(history.history['loss'])\n",
        "plt.plot(history.history['val_loss'])\n",
        "plt.title('Model loss')\n",
        "plt.xlabel='Epochs'\n",
        "plt.ylabel='Cost'\n",
        "plt.legend(('train', 'test'))\n",
        "\n",
        "\n",
        "\n"
      ],
      "execution_count": 17,
      "outputs": [
        {
          "output_type": "execute_result",
          "data": {
            "text/plain": [
              "<matplotlib.legend.Legend at 0x7fddf1884890>"
            ]
          },
          "metadata": {},
          "execution_count": 17
        },
        {
          "output_type": "display_data",
          "data": {
            "image/png": "[encoded data removed]",
            "text/plain": [
              "<Figure size 432x288 with 1 Axes>"
            ]
          },
          "metadata": {
            "needs_background": "light"
          }
        },
        {
          "output_type": "display_data",
          "data": {
            "image/png": "[encoded data removed]",
            "text/plain": [
              "<Figure size 432x288 with 1 Axes>"
            ]
          },
          "metadata": {
            "needs_background": "light"
          }
        }
      ]
    },
    {
      "cell_type": "code",
      "metadata": {
        "colab": {
          "resources": {
            "http://localhost:8080/nbextensions/google.colab/files.js": {
              "data": "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",
              "ok": true,
              "headers": [
                [
                  "content-type",
                  "application/javascript"
                ]
              ],
              "status": 200,
              "status_text": ""
            }
          },
          "base_uri": "https://localhost:8080/",
          "height": 73
        },
        "id": "HG-XPpNZHHHM",
        "outputId": "316c8fa7-9a52-4302-fb0f-79f1790201f7"
      },
      "source": [
        "from google.colab import files #If you want to check your own image with the network\n",
        "uploaded=files.upload() "
      ],
      "execution_count": 18,
      "outputs": [
        {
          "output_type": "display_data",
          "data": {
            "text/html": [
              "\n",
              "     <input type=\"file\" id=\"files-e6908852-92df-4730-8640-256655106b4b\" name=\"files[]\" multiple disabled\n",
              "        style=\"border:none\" />\n",
              "     <output id=\"result-e6908852-92df-4730-8640-256655106b4b\">\n",
              "      Upload widget is only available when the cell has been executed in the\n",
              "      current browser session. Please rerun this cell to enable.\n",
              "      </output>\n",
              "      <script src=\"/nbextensions/google.colab/files.js\"></script> "
            ],
            "text/plain": [
              "<IPython.core.display.HTML object>"
            ]
          },
          "metadata": {}
        },
        {
          "output_type": "stream",
          "name": "stdout",
          "text": [
            "Saving airplane.jpg to airplane.jpg\n"
          ]
        }
      ]
    },
    {
      "cell_type": "code",
      "metadata": {
        "colab": {
          "base_uri": "https://localhost:8080/",
          "height": 266
        },
        "id": "QQGe8PAFHHeI",
        "outputId": "13ab1499-f930-4708-98b7-46af6ebc5752"
      },
      "source": [
        "img=plt.imread('airplane.jpg') #truck.jpg should be replaced with the name of the image you want to check\n",
        "from skimage.transform import resize\n",
        "resized_image=resize(img, (32, 32, 3))\n",
        "imfinal=plt.imshow(resized_image)\n"
      ],
      "execution_count": 19,
      "outputs": [
        {
          "output_type": "display_data",
          "data": {
            "image/png": "[encoded data removed]",
            "text/plain": [
              "<Figure size 432x288 with 1 Axes>"
            ]
          },
          "metadata": {
            "needs_background": "light"
          }
        }
      ]
    },
    {
      "cell_type": "code",
      "metadata": {
        "id": "kxXzBKki2OlJ"
      },
      "source": [
        "'''If you want to check an image in the data set:\n",
        "print(model.predict(x[a])) where a refers to the index of the corresponding \n",
        "image in the dataset\n"
      ],
      "execution_count": null,
      "outputs": []
    },
    {
      "cell_type": "code",
      "metadata": {
        "colab": {
          "base_uri": "https://localhost:8080/"
        },
        "id": "MAWLMZlICpDl",
        "outputId": "9053c136-72a6-4fbc-c8b0-a88053659b4a"
      },
      "source": [
        "#print(resized_image)\n",
        "print(np.array([resized_image]))\n",
        "np.array([resized_image]).shape\n"
      ],
      "execution_count": 20,
      "outputs": [
        {
          "output_type": "stream",
          "name": "stdout",
          "text": [
            "[[[[0.         0.38039216 0.53333333]\n",
            "   [0.         0.38431373 0.5372549 ]\n",
            "   [0.         0.38823529 0.54117647]\n",
            "   ...\n",
            "   [0.         0.41176471 0.57254902]\n",
            "   [0.         0.41176471 0.56979933]\n",
            "   [0.         0.40784314 0.56862745]]\n",
            "\n",
            "  [[0.         0.38823529 0.54901961]\n",
            "   [0.         0.39215686 0.54901961]\n",
            "   [0.         0.39607843 0.55294118]\n",
            "   ...\n",
            "   [0.         0.42352941 0.59215686]\n",
            "   [0.         0.42203585 0.58823529]\n",
            "   [0.         0.41960784 0.58431373]]\n",
            "\n",
            "  [[0.         0.4        0.56078431]\n",
            "   [0.         0.40392157 0.56223192]\n",
            "   [0.         0.40392157 0.56711857]\n",
            "   ...\n",
            "   [0.         0.43529412 0.60784314]\n",
            "   [0.         0.43525582 0.60392157]\n",
            "   [0.         0.43137255 0.6       ]]\n",
            "\n",
            "  ...\n",
            "\n",
            "  [[0.         0.47058824 0.65882353]\n",
            "   [0.         0.4745098  0.6627451 ]\n",
            "   [0.         0.47843137 0.67058824]\n",
            "   ...\n",
            "   [0.         0.51372549 0.71764706]\n",
            "   [0.         0.51372549 0.71764706]\n",
            "   [0.         0.51372549 0.71372549]]\n",
            "\n",
            "  [[0.         0.4627451  0.65098039]\n",
            "   [0.         0.46909467 0.65490196]\n",
            "   [0.         0.4745098  0.66184896]\n",
            "   ...\n",
            "   [0.         0.50980392 0.70980392]\n",
            "   [0.         0.50980392 0.70980392]\n",
            "   [0.         0.50741422 0.70588235]]\n",
            "\n",
            "  [[0.         0.45490196 0.63568474]\n",
            "   [0.         0.45882353 0.64313725]\n",
            "   [0.         0.46519608 0.64901195]\n",
            "   ...\n",
            "   [0.         0.50588235 0.70196078]\n",
            "   [0.         0.50196078 0.70196078]\n",
            "   [0.         0.50196078 0.69803922]]]]\n"
          ]
        },
        {
          "output_type": "execute_result",
          "data": {
            "text/plain": [
              "(1, 32, 32, 3)"
            ]
          },
          "metadata": {},
          "execution_count": 20
        }
      ]
    },
    {
      "cell_type": "code",
      "metadata": {
        "id": "14mX9XDqHUjw"
      },
      "source": [
        "prediction=model.predict(np.array([resized_image]))"
      ],
      "execution_count": 21,
      "outputs": []
    },
    {
      "cell_type": "code",
      "metadata": {
        "colab": {
          "base_uri": "https://localhost:8080/"
        },
        "id": "-KAqYEC7IAJ5",
        "outputId": "f22b5d1a-9f0e-46a3-e0d3-34e696aa2f59"
      },
      "source": [
        "print(prediction)"
      ],
      "execution_count": 22,
      "outputs": [
        {
          "output_type": "stream",
          "name": "stdout",
          "text": [
            "[[8.1227404e-01 1.4570883e-05 3.3097584e-02 1.0155115e-02 5.0873072e-03\n",
            "  3.5053941e-05 8.7233326e-05 4.7733320e-05 1.3907686e-01 1.2462893e-04]]\n"
          ]
        }
      ]
    },
    {
      "cell_type": "code",
      "metadata": {
        "colab": {
          "base_uri": "https://localhost:8080/"
        },
        "id": "xiZMbIR5ICPv",
        "outputId": "eaaeb972-96dc-49dd-ac9e-fa81e7ed2e95"
      },
      "source": [
        "#The code below finds the probability that the image is any of the objects given and \n",
        "vals=[]\n",
        "pairs={}\n",
        "for i in range(10):\n",
        "  print('probability of ', objects[i])\n",
        "  print('is:' ,prediction[0][i])\n",
        "  print('\\n')\n",
        "  vals.append(prediction[0][i])\n",
        "  pairs[prediction[0][i]]=objects[i]\n",
        "\n",
        "\n",
        "\n",
        "\n",
        "vals.sort()\n",
        "vals.reverse()\n",
        "print('In decreasing order of likelihood the top 3 are: ')\n",
        "print(pairs[vals[0]])\n",
        "print(pairs[vals[1]])\n",
        "print(pairs[vals[2]])"
      ],
      "execution_count": 23,
      "outputs": [
        {
          "output_type": "stream",
          "name": "stdout",
          "text": [
            "probability of  airplane\n",
            "is: 0.81227404\n",
            "\n",
            "\n",
            "probability of  automobile\n",
            "is: 1.4570883e-05\n",
            "\n",
            "\n",
            "probability of  bird\n",
            "is: 0.033097584\n",
            "\n",
            "\n",
            "probability of  cat\n",
            "is: 0.010155115\n",
            "\n",
            "\n",
            "probability of  deer\n",
            "is: 0.005087307\n",
            "\n",
            "\n",
            "probability of  dog\n",
            "is: 3.505394e-05\n",
            "\n",
            "\n",
            "probability of  frog\n",
            "is: 8.7233326e-05\n",
            "\n",
            "\n",
            "probability of  horse\n",
            "is: 4.773332e-05\n",
            "\n",
            "\n",
            "probability of  ship\n",
            "is: 0.13907686\n",
            "\n",
            "\n",
            "probability of  truck\n",
            "is: 0.00012462893\n",
            "\n",
            "\n",
            "In decreasing order of likelihood the top 3 are: \n",
            "airplane\n",
            "ship\n",
            "bird\n"
          ]
        }
      ]
    }
  ]
}